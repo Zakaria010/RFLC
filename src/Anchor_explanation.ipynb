{
  "nbformat": 4,
  "nbformat_minor": 0,
  "metadata": {
    "colab": {
      "provenance": []
    },
    "kernelspec": {
      "name": "python3",
      "display_name": "Python 3"
    },
    "language_info": {
      "name": "python"
    }
  },
  "cells": [
    {
      "cell_type": "code",
      "execution_count": null,
      "metadata": {
        "id": "RglSzukolsLr",
        "colab": {
          "base_uri": "https://localhost:8080/"
        },
        "outputId": "86bf75c2-b30d-4767-b4a5-2df91225b567"
      },
      "outputs": [
        {
          "output_type": "stream",
          "name": "stdout",
          "text": [
            "Looking in indexes: https://pypi.org/simple, https://us-python.pkg.dev/colab-wheels/public/simple/\n",
            "Requirement already satisfied: anchor-exp in /usr/local/lib/python3.9/dist-packages (0.0.2.0)\n",
            "Requirement already satisfied: spacy in /usr/local/lib/python3.9/dist-packages (from anchor-exp) (3.5.2)\n",
            "Requirement already satisfied: numpy in /usr/local/lib/python3.9/dist-packages (from anchor-exp) (1.22.4)\n",
            "Requirement already satisfied: scipy in /usr/local/lib/python3.9/dist-packages (from anchor-exp) (1.10.1)\n",
            "Requirement already satisfied: lime in /usr/local/lib/python3.9/dist-packages (from anchor-exp) (0.2.0.1)\n",
            "Requirement already satisfied: scikit-learn>=0.22 in /usr/local/lib/python3.9/dist-packages (from anchor-exp) (1.2.2)\n",
            "Requirement already satisfied: threadpoolctl>=2.0.0 in /usr/local/lib/python3.9/dist-packages (from scikit-learn>=0.22->anchor-exp) (3.1.0)\n",
            "Requirement already satisfied: joblib>=1.1.1 in /usr/local/lib/python3.9/dist-packages (from scikit-learn>=0.22->anchor-exp) (1.2.0)\n",
            "Requirement already satisfied: tqdm in /usr/local/lib/python3.9/dist-packages (from lime->anchor-exp) (4.65.0)\n",
            "Requirement already satisfied: matplotlib in /usr/local/lib/python3.9/dist-packages (from lime->anchor-exp) (3.7.1)\n",
            "Requirement already satisfied: scikit-image>=0.12 in /usr/local/lib/python3.9/dist-packages (from lime->anchor-exp) (0.19.3)\n",
            "Requirement already satisfied: thinc<8.2.0,>=8.1.8 in /usr/local/lib/python3.9/dist-packages (from spacy->anchor-exp) (8.1.9)\n",
            "Requirement already satisfied: spacy-legacy<3.1.0,>=3.0.11 in /usr/local/lib/python3.9/dist-packages (from spacy->anchor-exp) (3.0.12)\n",
            "Requirement already satisfied: cymem<2.1.0,>=2.0.2 in /usr/local/lib/python3.9/dist-packages (from spacy->anchor-exp) (2.0.7)\n",
            "Requirement already satisfied: setuptools in /usr/local/lib/python3.9/dist-packages (from spacy->anchor-exp) (67.7.1)\n",
            "Requirement already satisfied: catalogue<2.1.0,>=2.0.6 in /usr/local/lib/python3.9/dist-packages (from spacy->anchor-exp) (2.0.8)\n",
            "Requirement already satisfied: jinja2 in /usr/local/lib/python3.9/dist-packages (from spacy->anchor-exp) (3.1.2)\n",
            "Requirement already satisfied: requests<3.0.0,>=2.13.0 in /usr/local/lib/python3.9/dist-packages (from spacy->anchor-exp) (2.27.1)\n",
            "Requirement already satisfied: preshed<3.1.0,>=3.0.2 in /usr/local/lib/python3.9/dist-packages (from spacy->anchor-exp) (3.0.8)\n",
            "Requirement already satisfied: typer<0.8.0,>=0.3.0 in /usr/local/lib/python3.9/dist-packages (from spacy->anchor-exp) (0.7.0)\n",
            "Requirement already satisfied: smart-open<7.0.0,>=5.2.1 in /usr/local/lib/python3.9/dist-packages (from spacy->anchor-exp) (6.3.0)\n",
            "Requirement already satisfied: spacy-loggers<2.0.0,>=1.0.0 in /usr/local/lib/python3.9/dist-packages (from spacy->anchor-exp) (1.0.4)\n",
            "Requirement already satisfied: pydantic!=1.8,!=1.8.1,<1.11.0,>=1.7.4 in /usr/local/lib/python3.9/dist-packages (from spacy->anchor-exp) (1.10.7)\n",
            "Requirement already satisfied: murmurhash<1.1.0,>=0.28.0 in /usr/local/lib/python3.9/dist-packages (from spacy->anchor-exp) (1.0.9)\n",
            "Requirement already satisfied: pathy>=0.10.0 in /usr/local/lib/python3.9/dist-packages (from spacy->anchor-exp) (0.10.1)\n",
            "Requirement already satisfied: wasabi<1.2.0,>=0.9.1 in /usr/local/lib/python3.9/dist-packages (from spacy->anchor-exp) (1.1.1)\n",
            "Requirement already satisfied: packaging>=20.0 in /usr/local/lib/python3.9/dist-packages (from spacy->anchor-exp) (23.1)\n",
            "Requirement already satisfied: langcodes<4.0.0,>=3.2.0 in /usr/local/lib/python3.9/dist-packages (from spacy->anchor-exp) (3.3.0)\n",
            "Requirement already satisfied: srsly<3.0.0,>=2.4.3 in /usr/local/lib/python3.9/dist-packages (from spacy->anchor-exp) (2.4.6)\n",
            "Requirement already satisfied: typing-extensions>=4.2.0 in /usr/local/lib/python3.9/dist-packages (from pydantic!=1.8,!=1.8.1,<1.11.0,>=1.7.4->spacy->anchor-exp) (4.5.0)\n",
            "Requirement already satisfied: charset-normalizer~=2.0.0 in /usr/local/lib/python3.9/dist-packages (from requests<3.0.0,>=2.13.0->spacy->anchor-exp) (2.0.12)\n",
            "Requirement already satisfied: idna<4,>=2.5 in /usr/local/lib/python3.9/dist-packages (from requests<3.0.0,>=2.13.0->spacy->anchor-exp) (3.4)\n",
            "Requirement already satisfied: urllib3<1.27,>=1.21.1 in /usr/local/lib/python3.9/dist-packages (from requests<3.0.0,>=2.13.0->spacy->anchor-exp) (1.26.15)\n",
            "Requirement already satisfied: certifi>=2017.4.17 in /usr/local/lib/python3.9/dist-packages (from requests<3.0.0,>=2.13.0->spacy->anchor-exp) (2022.12.7)\n",
            "Requirement already satisfied: pillow!=7.1.0,!=7.1.1,!=8.3.0,>=6.1.0 in /usr/local/lib/python3.9/dist-packages (from scikit-image>=0.12->lime->anchor-exp) (8.4.0)\n",
            "Requirement already satisfied: imageio>=2.4.1 in /usr/local/lib/python3.9/dist-packages (from scikit-image>=0.12->lime->anchor-exp) (2.25.1)\n",
            "Requirement already satisfied: tifffile>=2019.7.26 in /usr/local/lib/python3.9/dist-packages (from scikit-image>=0.12->lime->anchor-exp) (2023.4.12)\n",
            "Requirement already satisfied: networkx>=2.2 in /usr/local/lib/python3.9/dist-packages (from scikit-image>=0.12->lime->anchor-exp) (3.1)\n",
            "Requirement already satisfied: PyWavelets>=1.1.1 in /usr/local/lib/python3.9/dist-packages (from scikit-image>=0.12->lime->anchor-exp) (1.4.1)\n",
            "Requirement already satisfied: confection<1.0.0,>=0.0.1 in /usr/local/lib/python3.9/dist-packages (from thinc<8.2.0,>=8.1.8->spacy->anchor-exp) (0.0.4)\n",
            "Requirement already satisfied: blis<0.8.0,>=0.7.8 in /usr/local/lib/python3.9/dist-packages (from thinc<8.2.0,>=8.1.8->spacy->anchor-exp) (0.7.9)\n",
            "Requirement already satisfied: click<9.0.0,>=7.1.1 in /usr/local/lib/python3.9/dist-packages (from typer<0.8.0,>=0.3.0->spacy->anchor-exp) (8.1.3)\n",
            "Requirement already satisfied: MarkupSafe>=2.0 in /usr/local/lib/python3.9/dist-packages (from jinja2->spacy->anchor-exp) (2.1.2)\n",
            "Requirement already satisfied: pyparsing>=2.3.1 in /usr/local/lib/python3.9/dist-packages (from matplotlib->lime->anchor-exp) (3.0.9)\n",
            "Requirement already satisfied: python-dateutil>=2.7 in /usr/local/lib/python3.9/dist-packages (from matplotlib->lime->anchor-exp) (2.8.2)\n",
            "Requirement already satisfied: contourpy>=1.0.1 in /usr/local/lib/python3.9/dist-packages (from matplotlib->lime->anchor-exp) (1.0.7)\n",
            "Requirement already satisfied: importlib-resources>=3.2.0 in /usr/local/lib/python3.9/dist-packages (from matplotlib->lime->anchor-exp) (5.12.0)\n",
            "Requirement already satisfied: fonttools>=4.22.0 in /usr/local/lib/python3.9/dist-packages (from matplotlib->lime->anchor-exp) (4.39.3)\n",
            "Requirement already satisfied: kiwisolver>=1.0.1 in /usr/local/lib/python3.9/dist-packages (from matplotlib->lime->anchor-exp) (1.4.4)\n",
            "Requirement already satisfied: cycler>=0.10 in /usr/local/lib/python3.9/dist-packages (from matplotlib->lime->anchor-exp) (0.11.0)\n",
            "Requirement already satisfied: zipp>=3.1.0 in /usr/local/lib/python3.9/dist-packages (from importlib-resources>=3.2.0->matplotlib->lime->anchor-exp) (3.15.0)\n",
            "Requirement already satisfied: six>=1.5 in /usr/local/lib/python3.9/dist-packages (from python-dateutil>=2.7->matplotlib->lime->anchor-exp) (1.16.0)\n"
          ]
        }
      ],
      "source": [
        "!pip install anchor-exp\n"
      ]
    },
    {
      "cell_type": "code",
      "source": [
        "import numpy as np\n",
        "from sklearn.ensemble import RandomForestClassifier\n",
        "from anchor import utils\n",
        "from anchor import anchor_tabular\n",
        "import pandas as pd"
      ],
      "metadata": {
        "id": "yXY_zSv5mXM_"
      },
      "execution_count": null,
      "outputs": []
    },
    {
      "cell_type": "code",
      "source": [
        "# Load your data into a numpy array\n",
        "train_data = pd.read_csv(\"FICO.full.csv\")\n",
        "train_data=pd.DataFrame(train_data)\n",
        "train_data.to_csv(\"my_data.csv\")\n",
        "#data = pd.read_csv(\"my_data.csv\")\n",
        "data = np.genfromtxt(\"my_data.csv\", delimiter=\",\")\n",
        "data = data[1:]\n",
        "data = data[:,1:]\n",
        "\n",
        "\n",
        "\n"
      ],
      "metadata": {
        "id": "nn3-FQlPmBlQ"
      },
      "execution_count": null,
      "outputs": []
    },
    {
      "cell_type": "code",
      "source": [
        "# Split your data into training and testing sets\n",
        "X_train, y_train = data[:, :-1], data[:, -1]\n",
        "\n",
        "# Train a random forest model on your training data\n",
        "rf = RandomForestClassifier(n_estimators=100, max_depth=5)\n",
        "rf.fit(X_train, y_train)\n",
        "X_train.shape"
      ],
      "metadata": {
        "colab": {
          "base_uri": "https://localhost:8080/"
        },
        "id": "4J5937TIr1nf",
        "outputId": "e1f19caa-22cb-4ee8-a009-2d2f6a86bb50"
      },
      "execution_count": null,
      "outputs": [
        {
          "output_type": "execute_result",
          "data": {
            "text/plain": [
              "(10459, 17)"
            ]
          },
          "metadata": {},
          "execution_count": 9
        }
      ]
    },
    {
      "cell_type": "code",
      "source": [
        "# Define a function that takes an instance and returns its predicted class label\n",
        "predict_fn = lambda x: rf.predict(x.reshape(1, -1)).ravel()\n",
        "\n",
        "# Define a function that checks if a given instance has a different class label than the original instance\n",
        "def has_different_label(x, original_label):\n",
        "    return rf.predict(x.reshape(1, -1)).ravel() != original_label\n",
        "\n",
        "# Define a function that searches for a counterfactual instance using the Anchors algorithm\n",
        "def search_counterfactual(x, original_label):\n",
        "    # Define the search parameters\n",
        "    search_params = {\n",
        "        \"sample_whole_training\": False,\n",
        "        \"seed\": 1\n",
        "    }\n",
        "\n",
        "    # Define the feature names and the class names\n",
        "    feature_names = [\"ExternalRiskEstimate<0.49\",\"ExternalRiskEstimate<0.65\",\"ExternalRiskEstimate<0.80\",\"NumSatisfactoryTrades<0.5\",\"TradeOpenTime<0.6\",\"TradeOpenTime<0.85\",\"TradeFrequency<0.45\",\"TradeFrequency<0.6\",\"Delinquency<0.55\",\"Delinquency<0.75\",\"Installment<0.5\",\"Installment<0.7\",\"Inquiry<0.75\",\"RevolvingBalance<0.4\",\"RevolvingBalance<0.6\",\"Utilization<0.6\",\"TradeWBalance<0.33\"]\n",
        "    class_names = [\"0\", \"1\"]\n",
        "\n",
        "    # Create an Anchors explainer object for your random forest model\n",
        "    explainer = anchor_tabular.AnchorTabularExplainer( class_names,feature_names,\n",
        "        X_train\n",
        "        \n",
        "    )\n",
        "\n",
        "    # Generate a counterfactual explanation for the given instance using Anchors\n",
        "    explanation = explainer.explain_instance(\n",
        "        x, rf.predict, threshold=0.95\n",
        "    )\n",
        "\n",
        "    # Search for a counterfactual instance that has a different class label\n",
        "    \n",
        "    cfe = explanation.examples(only_different_prediction=True)[0]\n",
        "    if has_different_label(cfe, original_label):\n",
        "        return cfe\n",
        "\n",
        "    return None\n",
        "\n"
      ],
      "metadata": {
        "id": "ukNzjS3JmF9v"
      },
      "execution_count": null,
      "outputs": []
    },
    {
      "cell_type": "code",
      "source": [
        "# Define an example instance and its original class label\n",
        "instance = X_train[0]\n",
        "original_label = rf.predict(instance.reshape(1, -1)).ravel()[0]\n",
        "instance\n",
        "\n"
      ],
      "metadata": {
        "id": "nO0Fme4rmSkG",
        "colab": {
          "base_uri": "https://localhost:8080/"
        },
        "outputId": "09f7c068-3c31-408c-ccc8-691613c9b6b5"
      },
      "execution_count": null,
      "outputs": [
        {
          "output_type": "execute_result",
          "data": {
            "text/plain": [
              "array([0., 0., 0., 0., 0., 1., 0., 0., 0., 0., 1., 1., 0., 0., 1., 1., 0.])"
            ]
          },
          "metadata": {},
          "execution_count": 26
        }
      ]
    },
    {
      "cell_type": "code",
      "source": [
        "# Search for a counterfactual instance that has a different class label\n",
        "counterfactual_instance = search_counterfactual(instance, original_label)\n",
        "\n",
        "if counterfactual_instance is not None:\n",
        "    print(\"Counterfactual instance found:\", counterfactual_instance)\n",
        "else:\n",
        "    print(\"Counterfactual instance not found.\")"
      ],
      "metadata": {
        "colab": {
          "base_uri": "https://localhost:8080/"
        },
        "id": "kbBlBvoYx4ia",
        "outputId": "8f059491-4760-4651-e7e7-df273fac8b1c"
      },
      "execution_count": null,
      "outputs": [
        {
          "output_type": "stream",
          "name": "stdout",
          "text": [
            "Counterfactual instance found: [0. 0. 1. 1. 0. 1. 0. 1. 1. 1. 1. 1. 1. 1. 1. 1. 1.]\n"
          ]
        }
      ]
    },
    {
      "cell_type": "code",
      "source": [
        "# https://github.com/marcotcr/anchor/blob/b1f5e6ca37428613723597e85c38558e8cd21c2e/anchor/anchor_explanation.py#L5\n",
        "# https://arxiv.org/pdf/1805.10820.pdf\n",
        "# https://github.com/riccotti/LORE/blob/master/test_lore.py"
      ],
      "metadata": {
        "id": "LQDlWXJ62iMm"
      },
      "execution_count": null,
      "outputs": []
    },
    {
      "cell_type": "code",
      "source": [
        "from prepare_dataset import collectTreesRF, exportTreeCollection"
      ],
      "metadata": {
        "id": "NGbPZmOrNTmB"
      },
      "execution_count": null,
      "outputs": []
    },
    {
      "cell_type": "code",
      "source": [
        "n_nodesRF, children_leftRF, children_rightRF, featureRF, thresholdRF, node_depthRF, is_leavesRF, nodeValuesRF = collectTreesRF(rf)\n",
        "exportTreeCollection(\"Ficofull\", \"RF\",  0, len(X_train[0]), len(rf.classes_),\n",
        "                             n_nodesRF, children_leftRF, children_rightRF, featureRF, thresholdRF,\n",
        "                             node_depthRF, is_leavesRF, nodeValuesRF)"
      ],
      "metadata": {
        "id": "vQTbmeX_Ngsn"
      },
      "execution_count": null,
      "outputs": []
    }
  ]
}